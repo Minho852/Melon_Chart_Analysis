{
 "cells": [
  {
   "cell_type": "code",
   "execution_count": 3,
   "id": "2b6af7f7",
   "metadata": {},
   "outputs": [],
   "source": [
    "### import 부분\n",
    "import pymysql\n",
    "from bs4 import BeautifulSoup\n",
    "import requests\n",
    "from selenium import webdriver\n",
    "import time\n",
    "from selenium.webdriver.common.by import By\n",
    "from selenium.webdriver.common.keys import Keys\n",
    "\n",
    "### db 선언 부분\n",
    "db = pymysql.connect(host='127.0.0.1', port=3306, user='root', passwd='1234', db='melon', charset='utf8')\n",
    "cursor = db.cursor()\n",
    "\n",
    "##########################\n",
    "### 멜론 아티스트 탑 5 ###\n",
    "##########################\n",
    "\n",
    "### BeautifulSoup 선언 부분\n",
    "\n",
    "user_agent = \"Mozilla/5.0\"\n",
    "\n",
    "header01 = {\"User-Agent\" : user_agent}\n",
    "response = requests.get('https://www.melon.com/artistplus/artistchart/index.htm?chartGubunCode=DP0000',headers=header01)\n",
    "response.raise_for_status()\n",
    "\n",
    "bs = BeautifulSoup(response.text, 'lxml')\n",
    "ls = bs.find_all('strong',{'class':'ellipsis'})\n",
    "\n",
    "lis = bs.find_all('div',{'class':'graph'})\n",
    "inx = len(bs.find('div',{'class':'wrap_artist_chart'}).find('ul').find_all('li'))\n",
    "\n",
    "b = []\n",
    "rank = 1\n",
    "\n",
    "for i in range(1, inx+1):\n",
    "    b = []\n",
    "    name = ls[i-1].text\n",
    "    t = f\"artist rank{i}\"\n",
    "    per = bs.find('p',{'class':t}).text.strip()\n",
    "    for li in lis[i-1].find_all('li'):\n",
    "        b.append(li.find('span',{'class':'graph_bar'}).text)\n",
    "    sql = f\"\"\"\n",
    "    INSERT INTO artist_rank_top5 VALUES(\n",
    "    {rank}, \"{per}\",\"{name}\", \"{b[0]}\",\"{b[1]}\",\"{b[3]}\",\"{b[4]}\",\"{b[5]}\",\"{b[6]}\",\"{b[7]}\",\"{b[8]}\");\n",
    "    \"\"\"\n",
    "    cursor.execute(sql)\n",
    "    rank += 1"
   ]
  }
 ],
 "metadata": {
  "kernelspec": {
   "display_name": "Python 3 (ipykernel)",
   "language": "python",
   "name": "python3"
  },
  "language_info": {
   "codemirror_mode": {
    "name": "ipython",
    "version": 3
   },
   "file_extension": ".py",
   "mimetype": "text/x-python",
   "name": "python",
   "nbconvert_exporter": "python",
   "pygments_lexer": "ipython3",
   "version": "3.9.12"
  }
 },
 "nbformat": 4,
 "nbformat_minor": 5
}
